{
 "cells": [
  {
   "cell_type": "code",
   "execution_count": 6,
   "id": "d0722dfc-8d19-4a4a-b4c9-273773a33bf6",
   "metadata": {},
   "outputs": [],
   "source": [
    "import openai\n",
    "from openai import OpenAI\n",
    "import os\n",
    "import requests"
   ]
  },
  {
   "cell_type": "code",
   "execution_count": 7,
   "id": "84d2bc4a-d659-41e0-8a2d-bfa40650bb03",
   "metadata": {},
   "outputs": [],
   "source": [
    "os.environ['OPENAI_API_KEY'] = 'openai-key'\n",
    "client = OpenAI()\n",
    "openai.api_key = os.getenv(\"OPENAI_API_KEY\")"
   ]
  },
  {
   "cell_type": "code",
   "execution_count": 8,
   "id": "c705b820-397c-4882-87e8-74b885f20df3",
   "metadata": {},
   "outputs": [
    {
     "name": "stdin",
     "output_type": "stream",
     "text": [
      "Enter the cryptocurrency you want to know the price of:  داداش میخوام یکم اتریوم بخرم\n"
     ]
    },
    {
     "name": "stdout",
     "output_type": "stream",
     "text": [
      "ethereum\n",
      "The current price of ethereum in USD is: 0.126954\n"
     ]
    }
   ],
   "source": [
    "def get_crypto_price(crypto_name):\n",
    "    \"\"\"Fetches the current price of the specified cryptocurrency.\"\"\"\n",
    "    url = f\"https://api.coingecko.com/api/v3/simple/price?ids={crypto_name}&vs_currencies=usd\"\n",
    "    response = requests.get(url)\n",
    "    price_data = response.json()\n",
    "    return price_data.get(crypto_name, {}).get('usd', \"No price available\")\n",
    "\n",
    "def generate_completion(client, messages, model='gpt-3.5-turbo', temperature=1, n=1, stop=None, max_tokens=10):\n",
    "    \"\"\"Generates a completion using the OpenAI API.\"\"\"\n",
    "    response = client.chat.completions.create(\n",
    "        model=model,\n",
    "        messages=messages,\n",
    "        temperature=temperature,\n",
    "        n=n,\n",
    "        stop=stop,\n",
    "        max_tokens=max_tokens\n",
    "    )\n",
    "    return response\n",
    "\n",
    "def main():\n",
    "    \n",
    "    user_input = input(\"Enter the cryptocurrency you want to know the price of: \")\n",
    "    response = generate_completion(client, [\n",
    "        {'role': 'system', 'content': 'Extract only the cryptocurrency name from user message , if its in another language just extract it in english , also the name extracted name should be all in small letters .'},\n",
    "        {'role': 'user', 'content': user_input}\n",
    "    ])\n",
    "    print(response.choices[0].message.content)\n",
    "    # Extract the cryptocurrency name from response if necessary or directly use the user input\n",
    "    crypto_name = response.choices[0].message.content if response else user_input\n",
    "    price = get_crypto_price(\"tron\")\n",
    "    print(f\"The current price of {crypto_name} in USD is: {price}\")\n",
    "\n",
    "if __name__ == \"__main__\":\n",
    "    main()"
   ]
  },
  {
   "cell_type": "code",
   "execution_count": null,
   "id": "565e7459-f6e8-44f2-8bc9-1fa27f26efb7",
   "metadata": {},
   "outputs": [],
   "source": []
  }
 ],
 "metadata": {
  "kernelspec": {
   "display_name": "Python 3 (ipykernel)",
   "language": "python",
   "name": "python3"
  },
  "language_info": {
   "codemirror_mode": {
    "name": "ipython",
    "version": 3
   },
   "file_extension": ".py",
   "mimetype": "text/x-python",
   "name": "python",
   "nbconvert_exporter": "python",
   "pygments_lexer": "ipython3",
   "version": "3.11.5"
  }
 },
 "nbformat": 4,
 "nbformat_minor": 5
}
